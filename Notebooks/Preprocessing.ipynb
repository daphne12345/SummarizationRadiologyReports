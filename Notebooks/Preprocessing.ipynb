{
 "cells": [
  {
   "cell_type": "markdown",
   "metadata": {
    "colab_type": "text",
    "id": "Ewe3UPH0P0J5"
   },
   "source": [
    "# Preprocessing notebook\n",
    "\n",
    "Authors: Elisa Nguyen and Daphne Theodorakopoulos"
   ]
  },
  {
   "cell_type": "markdown",
   "metadata": {
    "colab_type": "text",
    "id": "bX1azU25QBmE"
   },
   "source": [
    "## 1. Library imports"
   ]
  },
  {
   "cell_type": "code",
   "execution_count": null,
   "metadata": {
    "colab": {
     "base_uri": "https://localhost:8080/",
     "height": 70
    },
    "colab_type": "code",
    "executionInfo": {
     "elapsed": 1415,
     "status": "ok",
     "timestamp": 1593352256863,
     "user": {
      "displayName": "Daphne Theodorakopoulos",
      "photoUrl": "",
      "userId": "16356904307392003747"
     },
     "user_tz": -120
    },
    "id": "zntHwjPQdElM",
    "outputId": "b03877ab-c1d1-4da0-8588-4bbe34910ba2"
   },
   "outputs": [],
   "source": [
    "import numpy as np  \n",
    "import pandas as pd \n",
    "pd.set_option(\"display.max_colwidth\", 200)          \n",
    "\n",
    "from sklearn.model_selection import train_test_split\n",
    "import re \n",
    "from keras.preprocessing.text import Tokenizer \n",
    "from keras.preprocessing.sequence import pad_sequences \n",
    "from nltk.corpus import stopwords\n",
    "import nltk\n",
    "import matplotlib.pyplot as plt\n",
    "nltk.download('stopwords')"
   ]
  },
  {
   "cell_type": "markdown",
   "metadata": {
    "colab_type": "text",
    "id": "TpQ1MuIAYSly"
   },
   "source": [
    "## 2. Split conclusions from findings\n",
    "\n",
    "- read original dataset\n",
    "- write to DataFrame \n",
    "- remove '\\r', '\\n'\n",
    "- split conclusion from findings\n",
    "- remove signatures of doctors"
   ]
  },
  {
   "cell_type": "code",
   "execution_count": null,
   "metadata": {
    "colab": {},
    "colab_type": "code",
    "id": "Iye00_27WEy_"
   },
   "outputs": [],
   "source": [
    "df = pd.read_excel('path_to_data')"
   ]
  },
  {
   "cell_type": "code",
   "execution_count": null,
   "metadata": {
    "colab": {},
    "colab_type": "code",
    "id": "4wM0E5uxAI13"
   },
   "outputs": [],
   "source": [
    "df['verslag'] = df['verslag'].str.replace('\\r',' ').str.replace('\\n', ' ').str.replace('  ',' ')"
   ]
  },
  {
   "cell_type": "code",
   "execution_count": null,
   "metadata": {
    "colab": {},
    "colab_type": "code",
    "id": "DpS-I3qObTXz"
   },
   "outputs": [],
   "source": [
    "df['findings'] = df[\"verslag\"].str.lower().str.rsplit(\"conclusie\", 1, expand = True)[0]\n",
    "df['conclusie'] = df[\"verslag\"].str.lower().str.rsplit(\"conclusie\", 1, expand = True)[1]"
   ]
  },
  {
   "cell_type": "code",
   "execution_count": null,
   "metadata": {
    "colab": {},
    "colab_type": "code",
    "id": "yiqqVACpc_fj"
   },
   "outputs": [],
   "source": [
    "df['conclusie'] = df['conclusie'].str.strip(':').str.strip(',').str.strip(' ').str.replace('xxx / xxx', '').str.replace('xxx/xxx','').str.replace('/ xxx','')"
   ]
  },
  {
   "cell_type": "code",
   "execution_count": null,
   "metadata": {
    "colab": {
     "base_uri": "https://localhost:8080/",
     "height": 447
    },
    "colab_type": "code",
    "executionInfo": {
     "elapsed": 868,
     "status": "ok",
     "timestamp": 1593352313061,
     "user": {
      "displayName": "Daphne Theodorakopoulos",
      "photoUrl": "",
      "userId": "16356904307392003747"
     },
     "user_tz": -120
    },
    "id": "7155qZQleJSX",
    "outputId": "ce170a32-d2ea-4a96-9a39-6ce9bd32fdd0"
   },
   "outputs": [],
   "source": [
    "df.drop_duplicates(subset=['findings'],inplace=True)  #dropping duplicates\n",
    "df.dropna(axis=0,inplace=True)   #dropping na\n",
    "df.head()"
   ]
  },
  {
   "cell_type": "markdown",
   "metadata": {
    "colab_type": "text",
    "id": "DX8HWQQTYVPY"
   },
   "source": [
    "## 3. Clean findings and conclusion\n",
    "\n",
    "- remove stopwords\n",
    "- remove unwanted characters"
   ]
  },
  {
   "cell_type": "code",
   "execution_count": null,
   "metadata": {
    "colab": {},
    "colab_type": "code",
    "id": "wwz4sG8-eT7K"
   },
   "outputs": [],
   "source": [
    "# modified version based on Tutorial from https://www.analyticsvidhya.com/blog/2019/06/comprehensive-guide-text-summarization-using-deep-learning-python/\n",
    "stop_words = set(stopwords.words('dutch')) \n",
    "def text_cleaner(text):\n",
    "    newString = text.lower()\n",
    "    newString = re.sub('\"','', newString)  \n",
    "    tokens = [w for w in newString.split() if not w in stop_words]\n",
    "    long_words=[]\n",
    "    for i in tokens:\n",
    "        if len(i)>=1:                  #removing short word\n",
    "            long_words.append(i)   \n",
    "    return (\" \".join(long_words)).strip()\n",
    "\n",
    "def summary_cleaner(text):\n",
    "    newString = re.sub('\"','', text)  \n",
    "    newString = newString.lower()\n",
    "    tokens=newString.split()\n",
    "    newString=''\n",
    "    for i in tokens:\n",
    "        if len(i)>=1:                                 \n",
    "            newString=newString+i+' '  \n",
    "    return newString"
   ]
  },
  {
   "cell_type": "code",
   "execution_count": null,
   "metadata": {
    "colab": {
     "base_uri": "https://localhost:8080/",
     "height": 281
    },
    "colab_type": "code",
    "executionInfo": {
     "elapsed": 2120,
     "status": "ok",
     "timestamp": 1593352324216,
     "user": {
      "displayName": "Daphne Theodorakopoulos",
      "photoUrl": "",
      "userId": "16356904307392003747"
     },
     "user_tz": -120
    },
    "id": "V6FItHDdgEjZ",
    "outputId": "ef8b2f7c-3acd-4278-855b-921a8bc2bc83"
   },
   "outputs": [],
   "source": [
    "df['cleaned_text'] = df['findings'].apply(text_cleaner)\n",
    "df['cleaned_summary']=df['conclusie'].apply(summary_cleaner)\n",
    "df['cleaned_summary'].replace('', np.nan, inplace=True)\n",
    "df.dropna(axis=0,inplace=True)\n",
    "df['cleaned_summary'] = df['cleaned_summary'].apply(lambda x : '_START_ '+ x + ' _END_')\n",
    "df[['cleaned_text','cleaned_summary']].head()"
   ]
  },
  {
   "cell_type": "markdown",
   "metadata": {
    "colab_type": "text",
    "id": "Q4CfTaQHf_zV"
   },
   "source": [
    "## 4. Get word counts for findings and conlcusion\n",
    "\n",
    "- maximum to find maximum length of findings and conclusion\n",
    "- median to see the dominant length, and to determine the dominant ratio between findings and conclusion"
   ]
  },
  {
   "cell_type": "code",
   "execution_count": null,
   "metadata": {
    "colab": {
     "base_uri": "https://localhost:8080/",
     "height": 281
    },
    "colab_type": "code",
    "executionInfo": {
     "elapsed": 1189,
     "status": "ok",
     "timestamp": 1593352332024,
     "user": {
      "displayName": "Daphne Theodorakopoulos",
      "photoUrl": "",
      "userId": "16356904307392003747"
     },
     "user_tz": -120
    },
    "id": "k2tQ4x7zgEKW",
    "outputId": "158c2063-a48c-450d-a700-604b9360704f"
   },
   "outputs": [
    {
     "data": {
      "image/png": "[encoded data removed]",
      "text/plain": [
       "<Figure size 432x288 with 2 Axes>"
      ]
     },
     "metadata": {
      "needs_background": "light",
      "tags": []
     },
     "output_type": "display_data"
    }
   ],
   "source": [
    "text_word_count = df['cleaned_text'].apply(lambda i: len(i.split()))\n",
    "summary_word_count = df['cleaned_summary'].apply(lambda i: len(i.split()))\n",
    "\n",
    "length_df = pd.DataFrame({'text':text_word_count, 'summary':summary_word_count})\n",
    "length_df.hist(bins = 30)\n",
    "plt.show()"
   ]
  },
  {
   "cell_type": "code",
   "execution_count": null,
   "metadata": {
    "colab": {
     "base_uri": "https://localhost:8080/",
     "height": 34
    },
    "colab_type": "code",
    "executionInfo": {
     "elapsed": 789,
     "status": "ok",
     "timestamp": 1593352336751,
     "user": {
      "displayName": "Daphne Theodorakopoulos",
      "photoUrl": "",
      "userId": "16356904307392003747"
     },
     "user_tz": -120
    },
    "id": "LaJsIOwdgGKW",
    "outputId": "964fce10-8866-4521-eaa3-83e21bab6d1b"
   },
   "outputs": [
    {
     "data": {
      "text/plain": [
       "324"
      ]
     },
     "execution_count": 12,
     "metadata": {
      "tags": []
     },
     "output_type": "execute_result"
    }
   ],
   "source": [
    "np.max(text_word_count)"
   ]
  },
  {
   "cell_type": "code",
   "execution_count": null,
   "metadata": {
    "colab": {
     "base_uri": "https://localhost:8080/",
     "height": 34
    },
    "colab_type": "code",
    "executionInfo": {
     "elapsed": 654,
     "status": "ok",
     "timestamp": 1593352337093,
     "user": {
      "displayName": "Daphne Theodorakopoulos",
      "photoUrl": "",
      "userId": "16356904307392003747"
     },
     "user_tz": -120
    },
    "id": "WyZX8qsSRcHh",
    "outputId": "7c416122-f8a7-4f37-d299-ce96e430db07"
   },
   "outputs": [
    {
     "data": {
      "text/plain": [
       "46.0"
      ]
     },
     "execution_count": 13,
     "metadata": {
      "tags": []
     },
     "output_type": "execute_result"
    }
   ],
   "source": [
    "np.median(text_word_count)"
   ]
  },
  {
   "cell_type": "code",
   "execution_count": null,
   "metadata": {
    "colab": {
     "base_uri": "https://localhost:8080/",
     "height": 34
    },
    "colab_type": "code",
    "executionInfo": {
     "elapsed": 558,
     "status": "ok",
     "timestamp": 1593352337455,
     "user": {
      "displayName": "Daphne Theodorakopoulos",
      "photoUrl": "",
      "userId": "16356904307392003747"
     },
     "user_tz": -120
    },
    "id": "xNJI0UaWgHyr",
    "outputId": "7b506eba-89c4-42a7-ae0b-a19d134e1cb9"
   },
   "outputs": [
    {
     "data": {
      "text/plain": [
       "219"
      ]
     },
     "execution_count": 14,
     "metadata": {
      "tags": []
     },
     "output_type": "execute_result"
    }
   ],
   "source": [
    "np.max(summary_word_count)"
   ]
  },
  {
   "cell_type": "code",
   "execution_count": null,
   "metadata": {
    "colab": {
     "base_uri": "https://localhost:8080/",
     "height": 34
    },
    "colab_type": "code",
    "executionInfo": {
     "elapsed": 763,
     "status": "ok",
     "timestamp": 1593352346488,
     "user": {
      "displayName": "Daphne Theodorakopoulos",
      "photoUrl": "",
      "userId": "16356904307392003747"
     },
     "user_tz": -120
    },
    "id": "W2Zj1HjQRgeA",
    "outputId": "4f83c5cd-1639-4720-a34a-169c394a2206"
   },
   "outputs": [
    {
     "data": {
      "text/plain": [
       "12.0"
      ]
     },
     "execution_count": 16,
     "metadata": {
      "tags": []
     },
     "output_type": "execute_result"
    }
   ],
   "source": [
    "np.median(summary_word_count)"
   ]
  },
  {
   "cell_type": "markdown",
   "metadata": {
    "colab_type": "text",
    "id": "xn826CQDdmlH"
   },
   "source": [
    "## 5. Save preprocessed data\n",
    "\n",
    "- split to train, val, test\n",
    "- save as excels"
   ]
  },
  {
   "cell_type": "code",
   "execution_count": null,
   "metadata": {
    "colab": {},
    "colab_type": "code",
    "id": "POYEcNdjgiLd"
   },
   "outputs": [],
   "source": [
    "x_train,x_v,y_train,y_v = train_test_split(df['cleaned_text'],df['cleaned_summary'],test_size=0.3,random_state=0,shuffle=True) \n",
    "x_val, x_test, y_val, y_test = train_test_split(x_v,y_v,test_size=0.33,random_state=0,shuffle=True) "
   ]
  },
  {
   "cell_type": "code",
   "execution_count": null,
   "metadata": {
    "colab": {},
    "colab_type": "code",
    "id": "4lnyxjgpdlsy"
   },
   "outputs": [],
   "source": [
    "x_train.to_excel('x_train.xlsx', index=False)\n",
    "y_train.to_excel('y_train.xlsx', index=False)\n",
    "x_test.to_excel('x_test.xlsx', index=False)\n",
    "y_test.to_excel('y_test.xlsx', index=False)\n",
    "x_val.to_excel('x_val.xlsx', index=False)\n",
    "y_val.to_excel('y_val.xlsx', index=False)"
   ]
  }
 ],
 "metadata": {
  "accelerator": "GPU",
  "colab": {
   "collapsed_sections": [],
   "name": "Preprocessing.ipynb",
   "provenance": [
    {
     "file_id": "1ibY4SuOuGTZQ0M1OqxjJRb7uhDhQG6H1",
     "timestamp": 1589798407416
    }
   ],
   "toc_visible": true
  },
  "kernelspec": {
   "display_name": "Python 3",
   "language": "python",
   "name": "python3"
  },
  "language_info": {
   "codemirror_mode": {
    "name": "ipython",
    "version": 3
   },
   "file_extension": ".py",
   "mimetype": "text/x-python",
   "name": "python",
   "nbconvert_exporter": "python",
   "pygments_lexer": "ipython3",
   "version": "3.7.4"
  }
 },
 "nbformat": 4,
 "nbformat_minor": 1
}
