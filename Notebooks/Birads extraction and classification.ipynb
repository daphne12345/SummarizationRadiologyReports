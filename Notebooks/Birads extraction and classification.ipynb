{
 "cells": [
  {
   "cell_type": "markdown",
   "metadata": {
    "colab_type": "text",
    "id": "aYgTRIeiOH8g"
   },
   "source": [
    "# BI-RADS score extraction and classification \n",
    "\n",
    "Authors: Elisa Nguyen and Daphne Theodorakopoulos"
   ]
  },
  {
   "cell_type": "markdown",
   "metadata": {
    "colab_type": "text",
    "id": "4lBqA_V3HY0_"
   },
   "source": [
    "# Imports & Read Data"
   ]
  },
  {
   "cell_type": "code",
   "execution_count": null,
   "metadata": {
    "colab": {
     "base_uri": "https://localhost:8080/",
     "height": 33
    },
    "colab_type": "code",
    "executionInfo": {
     "elapsed": 524,
     "status": "ok",
     "timestamp": 1593353332200,
     "user": {
      "displayName": "Daphne Theodorakopoulos",
      "photoUrl": "",
      "userId": "16356904307392003747"
     },
     "user_tz": -120
    },
    "id": "GO_vNJzCPyDt",
    "outputId": "ad0d0dd1-1a34-49fa-ea76-838367b45b2d"
   },
   "outputs": [
    {
     "name": "stderr",
     "output_type": "stream",
     "text": [
      "/usr/local/lib/python3.6/dist-packages/ipykernel_launcher.py:18: FutureWarning: Passing a negative integer is deprecated in version 1.0 and will not be supported in future version. Instead, use None to not limit the column width.\n"
     ]
    }
   ],
   "source": [
    "import pandas as pd\n",
    "import numpy as np\n",
    "import matplotlib.pyplot as plt\n",
    "\n",
    "from sklearn.feature_extraction.text import TfidfVectorizer, CountVectorizer, TfidfTransformer\n",
    "from sklearn.feature_selection import chi2\n",
    "from sklearn.model_selection import train_test_split, cross_val_score\n",
    "from sklearn.naive_bayes import MultinomialNB\n",
    "from sklearn.linear_model import LogisticRegression, RidgeClassifier, RidgeClassifierCV, LogisticRegressionCV\n",
    "from sklearn.ensemble import RandomForestClassifier\n",
    "from sklearn.svm import LinearSVC, SVC\n",
    "from sklearn.utils import class_weight\n",
    "from sklearn.pipeline import Pipeline\n",
    "from sklearn.neighbors import KNeighborsClassifier as KNN\n",
    "from xgboost import XGBClassifier\n",
    "\n",
    "pd.set_option('display.max_colwidth', -1)\n",
    "pd.set_option('display.max_rows', 1000)\n",
    "np.set_printoptions(threshold=100000)"
   ]
  },
  {
   "cell_type": "code",
   "execution_count": null,
   "metadata": {
    "colab": {},
    "colab_type": "code",
    "id": "hvYWI4atw0bt"
   },
   "outputs": [],
   "source": [
    "train = pd.read_excel('x_train.xlsx')\n",
    "train = train.dropna()\n",
    "val = pd.read_excel('x_val.xlsx')\n",
    "val = val.dropna()\n",
    "test = pd.read_excel('x_test.xlsx')\n",
    "test = test.dropna()"
   ]
  },
  {
   "cell_type": "markdown",
   "metadata": {
    "colab_type": "text",
    "id": "ON9By_xqHhqc"
   },
   "source": [
    "#Extract score from conclusions"
   ]
  },
  {
   "cell_type": "code",
   "execution_count": null,
   "metadata": {
    "colab": {},
    "colab_type": "code",
    "id": "Ufs-LVR_wwoi"
   },
   "outputs": [],
   "source": [
    "def score(row):\n",
    "  pre = ['birads classificatie', 'birads', 'birads-classificatie', 'birads calcificatie']\n",
    "  sec = [' rechts', ' links', ' beiderzijds', ' beide','',' ',':',' code','-code', ' categorie', ' echografisch']\n",
    "  mid = ['','-',' ','- ', ' echografisch ', ' rechts ', ' links ', ' beiderzijds ', ' thans ']\n",
    "  dic = {0:['0'],1:['1','i', 'een'], 2:['l2','2','ii', 'twee'], 3:['3','iii', 'drie'], \n",
    "         4:['4','iv', 'vier'], 5:['5', 'vijf','v'], 6:['6','vi', 'zes']}\n",
    "  for i in range(6,-1,-1): \n",
    "    for p in pre: \n",
    "      for s in sec:\n",
    "        for m in mid:\n",
    "          for val in dic[i]:\n",
    "            if (p +s+ m+ val) in row:\n",
    "              return i"
   ]
  },
  {
   "cell_type": "code",
   "execution_count": null,
   "metadata": {
    "colab": {},
    "colab_type": "code",
    "id": "m6CuTzQoxk2Q"
   },
   "outputs": [],
   "source": [
    "train['score'] = train['cleaned_text'].apply(score)\n",
    "val['score'] = val['cleaned_text'].apply(score)\n",
    "test['score'] = test['cleaned_text'].apply(score)"
   ]
  },
  {
   "cell_type": "markdown",
   "metadata": {
    "colab_type": "text",
    "id": "VF_kRGX-HqRg"
   },
   "source": [
    "# Number of reports in each class"
   ]
  },
  {
   "cell_type": "code",
   "execution_count": null,
   "metadata": {
    "colab": {
     "base_uri": "https://localhost:8080/",
     "height": 301
    },
    "colab_type": "code",
    "executionInfo": {
     "elapsed": 840,
     "status": "ok",
     "timestamp": 1593353220523,
     "user": {
      "displayName": "Daphne Theodorakopoulos",
      "photoUrl": "",
      "userId": "16356904307392003747"
     },
     "user_tz": -120
    },
    "id": "HNsZ2Q4VaM1G",
    "outputId": "41ae61d3-df9a-46a9-b051-bab1c1d7c2e5"
   },
   "outputs": [
    {
     "data": {
      "text/plain": [
       "<Figure size 576x432 with 0 Axes>"
      ]
     },
     "metadata": {
      "tags": []
     },
     "output_type": "display_data"
    },
    {
     "data": {
      "image/png": "[encoded data removed]",
      "text/plain": [
       "<Figure size 432x288 with 1 Axes>"
      ]
     },
     "metadata": {
      "needs_background": "light",
      "tags": []
     },
     "output_type": "display_data"
    }
   ],
   "source": [
    "all_data = train.append(test).append(val)\n",
    "all_data['# reports'] = all_data['cleaned_text']\n",
    "fig = plt.figure(figsize=(8,6))\n",
    "all_data[['# reports', 'score']].groupby('score').count().plot.bar(ylim=0)\n",
    "plt.savefig('plot3.png', transparent=True)\n",
    "plt.show()"
   ]
  },
  {
   "cell_type": "code",
   "execution_count": null,
   "metadata": {
    "colab": {
     "base_uri": "https://localhost:8080/",
     "height": 33
    },
    "colab_type": "code",
    "executionInfo": {
     "elapsed": 500,
     "status": "ok",
     "timestamp": 1593353224520,
     "user": {
      "displayName": "Daphne Theodorakopoulos",
      "photoUrl": "",
      "userId": "16356904307392003747"
     },
     "user_tz": -120
    },
    "id": "oLUfhb_Bx-yB",
    "outputId": "fa729722-f0da-4d1e-9a13-218053c22a8c"
   },
   "outputs": [
    {
     "name": "stdout",
     "output_type": "stream",
     "text": [
      "Number of class 2 in all data: 0.5388035137965674\n"
     ]
    }
   ],
   "source": [
    "print('Number of class 2 in all data:',all_data[all_data['score']==2].shape[0]/all_data.shape[0])"
   ]
  },
  {
   "cell_type": "code",
   "execution_count": null,
   "metadata": {
    "colab": {
     "base_uri": "https://localhost:8080/",
     "height": 33
    },
    "colab_type": "code",
    "executionInfo": {
     "elapsed": 515,
     "status": "ok",
     "timestamp": 1593353232776,
     "user": {
      "displayName": "Daphne Theodorakopoulos",
      "photoUrl": "",
      "userId": "16356904307392003747"
     },
     "user_tz": -120
    },
    "id": "KNPqjI0X92uT",
    "outputId": "31fddace-83c1-4a47-d9c5-ed61a482df3a"
   },
   "outputs": [
    {
     "data": {
      "text/plain": [
       "{0.0: 270, 1.0: 8718, 2.0: 17661, 3.0: 1804, 4.0: 2099, 5.0: 806, 6.0: 1393}"
      ]
     },
     "execution_count": 12,
     "metadata": {
      "tags": []
     },
     "output_type": "execute_result"
    }
   ],
   "source": [
    "weights = dict((train.groupby('score').count())['cleaned_text'])\n",
    "weights"
   ]
  },
  {
   "cell_type": "markdown",
   "metadata": {
    "colab_type": "text",
    "id": "CQtCH5acIWE8"
   },
   "source": [
    "# Comparison of different classification algorithms\n",
    "## Performance measured by accuracy on validation set\n",
    "## Best models also evaluated on test set"
   ]
  },
  {
   "cell_type": "markdown",
   "metadata": {
    "colab_type": "text",
    "id": "ijCSvWqTPScs"
   },
   "source": [
    "Svc"
   ]
  },
  {
   "cell_type": "code",
   "execution_count": null,
   "metadata": {
    "colab": {
     "base_uri": "https://localhost:8080/",
     "height": 35
    },
    "colab_type": "code",
    "executionInfo": {
     "elapsed": 967297,
     "status": "ok",
     "timestamp": 1592731263782,
     "user": {
      "displayName": "Daphne Theodorakopoulos",
      "photoUrl": "",
      "userId": "16356904307392003747"
     },
     "user_tz": -120
    },
    "id": "2htzCYoNHU7E",
    "outputId": "1cde2080-2acf-4431-8314-712d52e66375"
   },
   "outputs": [
    {
     "data": {
      "text/plain": [
       "0.8297367285282693"
      ]
     },
     "execution_count": 58,
     "metadata": {
      "tags": []
     },
     "output_type": "execute_result"
    }
   ],
   "source": [
    "svc = Pipeline([('vect', CountVectorizer()),\n",
    "               ('tfidf', TfidfTransformer()),\n",
    "               ('clf',SVC(decision_function_shape='ovo')),\n",
    "              ])\n",
    "\n",
    "\n",
    "\n",
    "svc.fit(train['cleaned_text'], train['score'])\n",
    "val['score_pred'] = svc.predict(val['cleaned_text'])\n",
    "val[val['score']==val['score_pred']].shape[0]/val.shape[0]"
   ]
  },
  {
   "cell_type": "markdown",
   "metadata": {
    "colab_type": "text",
    "id": "g80tzqmQN6Y8"
   },
   "source": [
    "svc with class weights"
   ]
  },
  {
   "cell_type": "code",
   "execution_count": null,
   "metadata": {
    "colab": {
     "base_uri": "https://localhost:8080/",
     "height": 34
    },
    "colab_type": "code",
    "executionInfo": {
     "elapsed": 1619594,
     "status": "ok",
     "timestamp": 1592813757692,
     "user": {
      "displayName": "Daphne Theodorakopoulos",
      "photoUrl": "",
      "userId": "16356904307392003747"
     },
     "user_tz": -120
    },
    "id": "bs3_b2X-QBK9",
    "outputId": "9e153883-ddac-40b2-a11e-d2ada9bdca37"
   },
   "outputs": [
    {
     "data": {
      "text/plain": [
       "0.8366422097539923"
      ]
     },
     "execution_count": 4,
     "metadata": {
      "tags": []
     },
     "output_type": "execute_result"
    }
   ],
   "source": [
    "svc = Pipeline([('vect', CountVectorizer()),\n",
    "               ('tfidf', TfidfTransformer()),\n",
    "               ('clf',SVC(decision_function_shape='ovo', class_weight=weights)),\n",
    "              ])\n",
    "\n",
    "\n",
    "\n",
    "svc.fit(train['cleaned_text'], train['score'])\n",
    "val['score_pred'] = svc.predict(val['cleaned_text'])\n",
    "val[val['score']==val['score_pred']].shape[0]/val.shape[0]"
   ]
  },
  {
   "cell_type": "code",
   "execution_count": null,
   "metadata": {
    "colab": {
     "base_uri": "https://localhost:8080/",
     "height": 34
    },
    "colab_type": "code",
    "executionInfo": {
     "elapsed": 1759467,
     "status": "ok",
     "timestamp": 1592813899618,
     "user": {
      "displayName": "Daphne Theodorakopoulos",
      "photoUrl": "",
      "userId": "16356904307392003747"
     },
     "user_tz": -120
    },
    "id": "ZO_zMSVGT3TT",
    "outputId": "5bb3f6f5-9f70-4bea-b30c-12cb7ff11b94"
   },
   "outputs": [
    {
     "data": {
      "text/plain": [
       "0.8331206126356094"
      ]
     },
     "execution_count": 5,
     "metadata": {
      "tags": []
     },
     "output_type": "execute_result"
    }
   ],
   "source": [
    "test['score_pred'] = svc.predict(test['cleaned_text'])\n",
    "test[test['score']==test['score_pred']].shape[0]/test.shape[0]"
   ]
  },
  {
   "cell_type": "markdown",
   "metadata": {
    "colab_type": "text",
    "id": "KGQR5t-VOBtH"
   },
   "source": [
    "linear svc"
   ]
  },
  {
   "cell_type": "code",
   "execution_count": null,
   "metadata": {
    "colab": {
     "base_uri": "https://localhost:8080/",
     "height": 35
    },
    "colab_type": "code",
    "executionInfo": {
     "elapsed": 3741,
     "status": "ok",
     "timestamp": 1592729801886,
     "user": {
      "displayName": "Daphne Theodorakopoulos",
      "photoUrl": "",
      "userId": "16356904307392003747"
     },
     "user_tz": -120
    },
    "id": "MOwlACpyFeK-",
    "outputId": "6cd53bb5-7012-4204-8bd7-b9661a2e033a"
   },
   "outputs": [
    {
     "data": {
      "text/plain": [
       "0.8120414328873543"
      ]
     },
     "execution_count": 50,
     "metadata": {
      "tags": []
     },
     "output_type": "execute_result"
    }
   ],
   "source": [
    "lsvc = Pipeline([('vect', CountVectorizer()),\n",
    "               ('tfidf', TfidfTransformer()),\n",
    "               ('clf', LinearSVC()),\n",
    "              ])\n",
    "\n",
    "lsvc.fit(train['cleaned_text'], train['score'])\n",
    "val['score_pred'] = lsvc.predict(val['cleaned_text'])\n",
    "val[val['score']==val['score_pred']].shape[0]/val.shape[0]"
   ]
  },
  {
   "cell_type": "code",
   "execution_count": null,
   "metadata": {
    "colab": {
     "base_uri": "https://localhost:8080/",
     "height": 35
    },
    "colab_type": "code",
    "executionInfo": {
     "elapsed": 926,
     "status": "ok",
     "timestamp": 1592729825233,
     "user": {
      "displayName": "Daphne Theodorakopoulos",
      "photoUrl": "",
      "userId": "16356904307392003747"
     },
     "user_tz": -120
    },
    "id": "79cFFvPOGBFj",
    "outputId": "bb0fc033-b78d-470b-e5cd-a2802402d08d"
   },
   "outputs": [
    {
     "data": {
      "text/plain": [
       "0.8103594979791534"
      ]
     },
     "execution_count": 51,
     "metadata": {
      "tags": []
     },
     "output_type": "execute_result"
    }
   ],
   "source": [
    "test['score_pred'] = lsvc.predict(test['cleaned_text'])\n",
    "test[test['score']==test['score_pred']].shape[0]/test.shape[0]"
   ]
  },
  {
   "cell_type": "markdown",
   "metadata": {
    "colab_type": "text",
    "id": "G_3hUyTtO0oc"
   },
   "source": [
    "linear svc using class weights"
   ]
  },
  {
   "cell_type": "code",
   "execution_count": null,
   "metadata": {
    "colab": {
     "base_uri": "https://localhost:8080/",
     "height": 70
    },
    "colab_type": "code",
    "executionInfo": {
     "elapsed": 26192,
     "status": "ok",
     "timestamp": 1592729677795,
     "user": {
      "displayName": "Daphne Theodorakopoulos",
      "photoUrl": "",
      "userId": "16356904307392003747"
     },
     "user_tz": -120
    },
    "id": "7L4EVQw4CxRy",
    "outputId": "dc1d83da-b3df-4d2b-8ecc-914f0c7148be"
   },
   "outputs": [
    {
     "name": "stderr",
     "output_type": "stream",
     "text": [
      "/usr/local/lib/python3.6/dist-packages/sklearn/svm/_base.py:947: ConvergenceWarning: Liblinear failed to converge, increase the number of iterations.\n",
      "  \"the number of iterations.\", ConvergenceWarning)\n"
     ]
    },
    {
     "data": {
      "text/plain": [
       "0.7738454898575744"
      ]
     },
     "execution_count": 46,
     "metadata": {
      "tags": []
     },
     "output_type": "execute_result"
    }
   ],
   "source": [
    "lsvc = Pipeline([('vect', CountVectorizer()),\n",
    "               ('tfidf', TfidfTransformer()),\n",
    "               ('clf', LinearSVC(class_weight=weights)),\n",
    "              ])\n",
    "\n",
    "\n",
    "\n",
    "lsvc.fit(train['cleaned_text'], train['score'])\n",
    "val['score_pred'] = lsvc.predict(val['cleaned_text'])\n",
    "val[val['score']==val['score_pred']].shape[0]/val.shape[0]"
   ]
  },
  {
   "cell_type": "markdown",
   "metadata": {
    "colab_type": "text",
    "id": "ZKoR9UfJN75F"
   },
   "source": [
    "logistic regression\n"
   ]
  },
  {
   "cell_type": "code",
   "execution_count": null,
   "metadata": {
    "colab": {
     "base_uri": "https://localhost:8080/",
     "height": 177
    },
    "colab_type": "code",
    "executionInfo": {
     "elapsed": 10784,
     "status": "ok",
     "timestamp": 1592729767729,
     "user": {
      "displayName": "Daphne Theodorakopoulos",
      "photoUrl": "",
      "userId": "16356904307392003747"
     },
     "user_tz": -120
    },
    "id": "69trjrxaNnl4",
    "outputId": "5d7deb65-73ce-4a79-d9e6-ddbd35e63e56"
   },
   "outputs": [
    {
     "name": "stderr",
     "output_type": "stream",
     "text": [
      "/usr/local/lib/python3.6/dist-packages/sklearn/linear_model/_logistic.py:940: ConvergenceWarning: lbfgs failed to converge (status=1):\n",
      "STOP: TOTAL NO. of ITERATIONS REACHED LIMIT.\n",
      "\n",
      "Increase the number of iterations (max_iter) or scale the data as shown in:\n",
      "    https://scikit-learn.org/stable/modules/preprocessing.html\n",
      "Please also refer to the documentation for alternative solver options:\n",
      "    https://scikit-learn.org/stable/modules/linear_model.html#logistic-regression\n",
      "  extra_warning_msg=_LOGISTIC_SOLVER_CONVERGENCE_MSG)\n"
     ]
    },
    {
     "data": {
      "text/plain": [
       "0.8109624514458351"
      ]
     },
     "execution_count": 49,
     "metadata": {
      "tags": []
     },
     "output_type": "execute_result"
    }
   ],
   "source": [
    "lr = Pipeline([('vect', CountVectorizer()),\n",
    "               ('tfidf', TfidfTransformer()),\n",
    "               ('clf', LogisticRegression()),\n",
    "              ])\n",
    "\n",
    "lr.fit(train['cleaned_text'], train['score'])\n",
    "val['score_pred'] = lr.predict(val['cleaned_text'])\n",
    "val[val['score']==val['score_pred']].shape[0]/val.shape[0]"
   ]
  },
  {
   "cell_type": "code",
   "execution_count": null,
   "metadata": {
    "colab": {
     "base_uri": "https://localhost:8080/",
     "height": 35
    },
    "colab_type": "code",
    "executionInfo": {
     "elapsed": 1042,
     "status": "ok",
     "timestamp": 1592729843561,
     "user": {
      "displayName": "Daphne Theodorakopoulos",
      "photoUrl": "",
      "userId": "16356904307392003747"
     },
     "user_tz": -120
    },
    "id": "wDHptPfqGJ-_",
    "outputId": "71244b53-71f7-4a8b-82f0-5ceaac412e74"
   },
   "outputs": [
    {
     "data": {
      "text/plain": [
       "0.8144011912359073"
      ]
     },
     "execution_count": 52,
     "metadata": {
      "tags": []
     },
     "output_type": "execute_result"
    }
   ],
   "source": [
    "test['score_pred'] = lr.predict(test['cleaned_text'])\n",
    "test[test['score']==test['score_pred']].shape[0]/test.shape[0]"
   ]
  },
  {
   "cell_type": "markdown",
   "metadata": {
    "colab_type": "text",
    "id": "NAJn_lRlRLX2"
   },
   "source": [
    "logistic regression with cross validation"
   ]
  },
  {
   "cell_type": "code",
   "execution_count": null,
   "metadata": {
    "colab": {
     "base_uri": "https://localhost:8080/",
     "height": 887
    },
    "colab_type": "code",
    "executionInfo": {
     "elapsed": 281722,
     "status": "ok",
     "timestamp": 1592767227972,
     "user": {
      "displayName": "Daphne Theodorakopoulos",
      "photoUrl": "",
      "userId": "16356904307392003747"
     },
     "user_tz": -120
    },
    "id": "OW8u3RfEKWpn",
    "outputId": "2100f39f-4c4d-489c-b631-5bfa734a6d8c"
   },
   "outputs": [
    {
     "name": "stderr",
     "output_type": "stream",
     "text": [
      "/usr/local/lib/python3.6/dist-packages/sklearn/linear_model/_logistic.py:940: ConvergenceWarning: lbfgs failed to converge (status=1):\n",
      "STOP: TOTAL NO. of ITERATIONS REACHED LIMIT.\n",
      "\n",
      "Increase the number of iterations (max_iter) or scale the data as shown in:\n",
      "    https://scikit-learn.org/stable/modules/preprocessing.html\n",
      "Please also refer to the documentation for alternative solver options:\n",
      "    https://scikit-learn.org/stable/modules/linear_model.html#logistic-regression\n",
      "  extra_warning_msg=_LOGISTIC_SOLVER_CONVERGENCE_MSG)\n",
      "/usr/local/lib/python3.6/dist-packages/sklearn/linear_model/_logistic.py:940: ConvergenceWarning: lbfgs failed to converge (status=1):\n",
      "STOP: TOTAL NO. of ITERATIONS REACHED LIMIT.\n",
      "\n",
      "Increase the number of iterations (max_iter) or scale the data as shown in:\n",
      "    https://scikit-learn.org/stable/modules/preprocessing.html\n",
      "Please also refer to the documentation for alternative solver options:\n",
      "    https://scikit-learn.org/stable/modules/linear_model.html#logistic-regression\n",
      "  extra_warning_msg=_LOGISTIC_SOLVER_CONVERGENCE_MSG)\n",
      "/usr/local/lib/python3.6/dist-packages/sklearn/linear_model/_logistic.py:940: ConvergenceWarning: lbfgs failed to converge (status=1):\n",
      "STOP: TOTAL NO. of ITERATIONS REACHED LIMIT.\n",
      "\n",
      "Increase the number of iterations (max_iter) or scale the data as shown in:\n",
      "    https://scikit-learn.org/stable/modules/preprocessing.html\n",
      "Please also refer to the documentation for alternative solver options:\n",
      "    https://scikit-learn.org/stable/modules/linear_model.html#logistic-regression\n",
      "  extra_warning_msg=_LOGISTIC_SOLVER_CONVERGENCE_MSG)\n",
      "/usr/local/lib/python3.6/dist-packages/sklearn/linear_model/_logistic.py:940: ConvergenceWarning: lbfgs failed to converge (status=1):\n",
      "STOP: TOTAL NO. of ITERATIONS REACHED LIMIT.\n",
      "\n",
      "Increase the number of iterations (max_iter) or scale the data as shown in:\n",
      "    https://scikit-learn.org/stable/modules/preprocessing.html\n",
      "Please also refer to the documentation for alternative solver options:\n",
      "    https://scikit-learn.org/stable/modules/linear_model.html#logistic-regression\n",
      "  extra_warning_msg=_LOGISTIC_SOLVER_CONVERGENCE_MSG)\n",
      "/usr/local/lib/python3.6/dist-packages/sklearn/linear_model/_logistic.py:940: ConvergenceWarning: lbfgs failed to converge (status=1):\n",
      "STOP: TOTAL NO. of ITERATIONS REACHED LIMIT.\n",
      "\n",
      "Increase the number of iterations (max_iter) or scale the data as shown in:\n",
      "    https://scikit-learn.org/stable/modules/preprocessing.html\n",
      "Please also refer to the documentation for alternative solver options:\n",
      "    https://scikit-learn.org/stable/modules/linear_model.html#logistic-regression\n",
      "  extra_warning_msg=_LOGISTIC_SOLVER_CONVERGENCE_MSG)\n",
      "/usr/local/lib/python3.6/dist-packages/sklearn/linear_model/_logistic.py:940: ConvergenceWarning: lbfgs failed to converge (status=1):\n",
      "STOP: TOTAL NO. of ITERATIONS REACHED LIMIT.\n",
      "\n",
      "Increase the number of iterations (max_iter) or scale the data as shown in:\n",
      "    https://scikit-learn.org/stable/modules/preprocessing.html\n",
      "Please also refer to the documentation for alternative solver options:\n",
      "    https://scikit-learn.org/stable/modules/linear_model.html#logistic-regression\n",
      "  extra_warning_msg=_LOGISTIC_SOLVER_CONVERGENCE_MSG)\n"
     ]
    },
    {
     "data": {
      "text/plain": [
       "0.8172205438066465"
      ]
     },
     "execution_count": 7,
     "metadata": {
      "tags": []
     },
     "output_type": "execute_result"
    }
   ],
   "source": [
    "lr_cv = Pipeline([('vect', CountVectorizer()),\n",
    "               ('tfidf', TfidfTransformer()),\n",
    "               ('clf',LogisticRegressionCV()),\n",
    "              ])\n",
    "\n",
    "\n",
    "\n",
    "lr_cv.fit(train['cleaned_text'], train['score'])\n",
    "val['score_pred'] = lr_cv.predict(val['cleaned_text'])\n",
    "val[val['score']==val['score_pred']].shape[0]/val.shape[0]"
   ]
  },
  {
   "cell_type": "code",
   "execution_count": null,
   "metadata": {
    "colab": {
     "base_uri": "https://localhost:8080/",
     "height": 34
    },
    "colab_type": "code",
    "executionInfo": {
     "elapsed": 914,
     "status": "ok",
     "timestamp": 1592767230269,
     "user": {
      "displayName": "Daphne Theodorakopoulos",
      "photoUrl": "",
      "userId": "16356904307392003747"
     },
     "user_tz": -120
    },
    "id": "HTSolrSmTyI_",
    "outputId": "96cfbe4d-ce33-45d7-e231-1326ee76436c"
   },
   "outputs": [
    {
     "data": {
      "text/plain": [
       "0.8164220378642842"
      ]
     },
     "execution_count": 8,
     "metadata": {
      "tags": []
     },
     "output_type": "execute_result"
    }
   ],
   "source": [
    "test['score_pred'] = lr_cv.predict(test['cleaned_text'])\n",
    "test[test['score']==test['score_pred']].shape[0]/test.shape[0]"
   ]
  },
  {
   "cell_type": "markdown",
   "metadata": {
    "colab_type": "text",
    "id": "eSbhtmwHOIg6"
   },
   "source": [
    "Naive Bayes"
   ]
  },
  {
   "cell_type": "code",
   "execution_count": null,
   "metadata": {
    "colab": {
     "base_uri": "https://localhost:8080/",
     "height": 35
    },
    "colab_type": "code",
    "executionInfo": {
     "elapsed": 2307,
     "status": "ok",
     "timestamp": 1592729181101,
     "user": {
      "displayName": "Daphne Theodorakopoulos",
      "photoUrl": "",
      "userId": "16356904307392003747"
     },
     "user_tz": -120
    },
    "id": "IBTfwtrtCgmx",
    "outputId": "8abc6347-8e70-4127-da8f-1c9bf87f5ed3"
   },
   "outputs": [
    {
     "data": {
      "text/plain": [
       "0.6700474751834269"
      ]
     },
     "execution_count": 42,
     "metadata": {
      "tags": []
     },
     "output_type": "execute_result"
    }
   ],
   "source": [
    "nb = Pipeline([('vect', CountVectorizer()),\n",
    "               ('tfidf', TfidfTransformer()),\n",
    "               ('clf', MultinomialNB(class_prior=list(weights.values())/sum(weights.values()))),\n",
    "              ])\n",
    "\n",
    "\n",
    "\n",
    "nb.fit(train['cleaned_text'], train['score'])\n",
    "val['score_pred'] = nb.predict(val['cleaned_text'])\n",
    "val[val['score']==val['score_pred']].shape[0]/val.shape[0]"
   ]
  },
  {
   "cell_type": "markdown",
   "metadata": {
    "colab_type": "text",
    "id": "JeKQCNIAOMm_"
   },
   "source": [
    "Random Forest using 200 estimators"
   ]
  },
  {
   "cell_type": "code",
   "execution_count": null,
   "metadata": {
    "colab": {
     "base_uri": "https://localhost:8080/",
     "height": 35
    },
    "colab_type": "code",
    "executionInfo": {
     "elapsed": 124939,
     "status": "ok",
     "timestamp": 1592729557768,
     "user": {
      "displayName": "Daphne Theodorakopoulos",
      "photoUrl": "",
      "userId": "16356904307392003747"
     },
     "user_tz": -120
    },
    "id": "U19tG1eAELQH",
    "outputId": "ef911b73-4268-4419-d7ce-53229b5a6c00"
   },
   "outputs": [
    {
     "data": {
      "text/plain": [
       "0.7734138972809668"
      ]
     },
     "execution_count": 44,
     "metadata": {
      "tags": []
     },
     "output_type": "execute_result"
    }
   ],
   "source": [
    "rf = Pipeline([('vect', CountVectorizer()),\n",
    "               ('tfidf', TfidfTransformer()),\n",
    "               ('clf', RandomForestClassifier(n_estimators=200,random_state=0)),\n",
    "              ])\n",
    "\n",
    "\n",
    "\n",
    "rf.fit(train['cleaned_text'], train['score'])\n",
    "val['score_pred'] = rf.predict(val['cleaned_text'])\n",
    "val[val['score']==val['score_pred']].shape[0]/val.shape[0]"
   ]
  },
  {
   "cell_type": "markdown",
   "metadata": {
    "colab_type": "text",
    "id": "lnm04v2bO4vA"
   },
   "source": [
    "Random Forest using 80 estimators"
   ]
  },
  {
   "cell_type": "code",
   "execution_count": null,
   "metadata": {
    "colab": {
     "base_uri": "https://localhost:8080/",
     "height": 35
    },
    "colab_type": "code",
    "executionInfo": {
     "elapsed": 52245,
     "status": "ok",
     "timestamp": 1592729639703,
     "user": {
      "displayName": "Daphne Theodorakopoulos",
      "photoUrl": "",
      "userId": "16356904307392003747"
     },
     "user_tz": -120
    },
    "id": "IljiV-pWDdoe",
    "outputId": "a57ba788-ae71-42d6-b5e7-b841d443d766"
   },
   "outputs": [
    {
     "data": {
      "text/plain": [
       "0.7693137678031938"
      ]
     },
     "execution_count": 45,
     "metadata": {
      "tags": []
     },
     "output_type": "execute_result"
    }
   ],
   "source": [
    "rf = Pipeline([('vect', CountVectorizer()),\n",
    "               ('tfidf', TfidfTransformer()),\n",
    "               ('clf', RandomForestClassifier(n_estimators=80,random_state=0)),\n",
    "              ])\n",
    "\n",
    "\n",
    "\n",
    "rf.fit(train['cleaned_text'], train['score'])\n",
    "val['score_pred'] = rf.predict(val['cleaned_text'])\n",
    "val[val['score']==val['score_pred']].shape[0]/val.shape[0]"
   ]
  },
  {
   "cell_type": "markdown",
   "metadata": {
    "colab_type": "text",
    "id": "ziyl97XmPHEI"
   },
   "source": [
    "KNN"
   ]
  },
  {
   "cell_type": "code",
   "execution_count": null,
   "metadata": {
    "colab": {
     "base_uri": "https://localhost:8080/",
     "height": 35
    },
    "colab_type": "code",
    "executionInfo": {
     "elapsed": 11682,
     "status": "ok",
     "timestamp": 1592730138699,
     "user": {
      "displayName": "Daphne Theodorakopoulos",
      "photoUrl": "",
      "userId": "16356904307392003747"
     },
     "user_tz": -120
    },
    "id": "wCEWj1GvGjYg",
    "outputId": "6cc8bab6-8234-4d1a-840f-cd5c34991bfa"
   },
   "outputs": [
    {
     "data": {
      "text/plain": [
       "0.6959430297798878"
      ]
     },
     "execution_count": 57,
     "metadata": {
      "tags": []
     },
     "output_type": "execute_result"
    }
   ],
   "source": [
    "knn = Pipeline([('vect', CountVectorizer()),\n",
    "               ('tfidf', TfidfTransformer()),\n",
    "               ('clf', KNN()),\n",
    "              ])\n",
    "\n",
    "\n",
    "\n",
    "knn.fit(train['cleaned_text'], train['score'])\n",
    "val['score_pred'] = knn.predict(val['cleaned_text'])\n",
    "val[val['score']==val['score_pred']].shape[0]/val.shape[0]"
   ]
  },
  {
   "cell_type": "markdown",
   "metadata": {
    "colab_type": "text",
    "id": "JY0v8U9WQRiO"
   },
   "source": [
    "Gradient Boosted Trees"
   ]
  },
  {
   "cell_type": "code",
   "execution_count": null,
   "metadata": {
    "colab": {
     "base_uri": "https://localhost:8080/",
     "height": 35
    },
    "colab_type": "code",
    "executionInfo": {
     "elapsed": 714897,
     "status": "ok",
     "timestamp": 1592732324801,
     "user": {
      "displayName": "Daphne Theodorakopoulos",
      "photoUrl": "",
      "userId": "16356904307392003747"
     },
     "user_tz": -120
    },
    "id": "4ceWBsbwLCaA",
    "outputId": "f3b9f73f-0eb1-45e0-8335-a42fac2ce7f2"
   },
   "outputs": [
    {
     "data": {
      "text/plain": [
       "0.779887785930082"
      ]
     },
     "execution_count": 78,
     "metadata": {
      "tags": []
     },
     "output_type": "execute_result"
    }
   ],
   "source": [
    "xgboost = Pipeline([('vect', CountVectorizer()),\n",
    "               ('tfidf', TfidfTransformer()),\n",
    "               ('clf',XGBClassifier()),\n",
    "              ])\n",
    "\n",
    "\n",
    "\n",
    "xgboost.fit(train['cleaned_text'], train['score'])\n",
    "val['score_pred'] = xgboost.predict(val['cleaned_text'])\n",
    "val[val['score']==val['score_pred']].shape[0]/val.shape[0]"
   ]
  },
  {
   "cell_type": "markdown",
   "metadata": {
    "colab_type": "text",
    "id": "1ZK8_iU7QhsE"
   },
   "source": [
    "Ridge Classifier"
   ]
  },
  {
   "cell_type": "code",
   "execution_count": null,
   "metadata": {
    "colab": {
     "base_uri": "https://localhost:8080/",
     "height": 33
    },
    "colab_type": "code",
    "executionInfo": {
     "elapsed": 5289,
     "status": "ok",
     "timestamp": 1593353359669,
     "user": {
      "displayName": "Daphne Theodorakopoulos",
      "photoUrl": "",
      "userId": "16356904307392003747"
     },
     "user_tz": -120
    },
    "id": "i2qMudRkJ54p",
    "outputId": "af23511f-8737-4a0f-c820-206409b9ae3c"
   },
   "outputs": [
    {
     "data": {
      "text/plain": [
       "0.7962883038411739"
      ]
     },
     "execution_count": 14,
     "metadata": {
      "tags": []
     },
     "output_type": "execute_result"
    }
   ],
   "source": [
    "ridge = Pipeline([('vect', CountVectorizer()),\n",
    "               ('tfidf', TfidfTransformer()),\n",
    "               ('clf',RidgeClassifier()),\n",
    "              ])\n",
    "\n",
    "\n",
    "\n",
    "ridge.fit(train['cleaned_text'], train['score'])\n",
    "val['score_pred'] = ridge.predict(val['cleaned_text'])\n",
    "val[val['score']==val['score_pred']].shape[0]/val.shape[0]"
   ]
  },
  {
   "cell_type": "markdown",
   "metadata": {
    "colab_type": "text",
    "id": "3yUnNYOMSEKc"
   },
   "source": [
    "Ridge Classifier with cross validation"
   ]
  },
  {
   "cell_type": "code",
   "execution_count": null,
   "metadata": {
    "colab": {
     "base_uri": "https://localhost:8080/",
     "height": 34
    },
    "colab_type": "code",
    "executionInfo": {
     "elapsed": 3758036,
     "status": "ok",
     "timestamp": 1592770987548,
     "user": {
      "displayName": "Daphne Theodorakopoulos",
      "photoUrl": "",
      "userId": "16356904307392003747"
     },
     "user_tz": -120
    },
    "id": "ub0Q56PVOuwn",
    "outputId": "e9ef2389-5d88-4e43-c88b-75dafe31136c"
   },
   "outputs": [
    {
     "data": {
      "text/plain": [
       "0.7965041001294778"
      ]
     },
     "execution_count": 11,
     "metadata": {
      "tags": []
     },
     "output_type": "execute_result"
    }
   ],
   "source": [
    "rc_cv = Pipeline([('vect', CountVectorizer()),\n",
    "               ('tfidf', TfidfTransformer()),\n",
    "               ('clf',RidgeClassifierCV()),\n",
    "              ])\n",
    "\n",
    "\n",
    "\n",
    "rc_cv.fit(train['cleaned_text'], train['score'])\n",
    "val['score_pred'] = rc_cv.predict(val['cleaned_text'])\n",
    "val[val['score']==val['score_pred']].shape[0]/val.shape[0]"
   ]
  },
  {
   "cell_type": "code",
   "execution_count": null,
   "metadata": {
    "colab": {
     "base_uri": "https://localhost:8080/",
     "height": 34
    },
    "colab_type": "code",
    "executionInfo": {
     "elapsed": 3758557,
     "status": "ok",
     "timestamp": 1592770988079,
     "user": {
      "displayName": "Daphne Theodorakopoulos",
      "photoUrl": "",
      "userId": "16356904307392003747"
     },
     "user_tz": -120
    },
    "id": "Os4ejlgVT4iU",
    "outputId": "47515f68-9bd3-4575-8e31-821e886ad3c2"
   },
   "outputs": [
    {
     "data": {
      "text/plain": [
       "0.7945118059987237"
      ]
     },
     "execution_count": 12,
     "metadata": {
      "tags": []
     },
     "output_type": "execute_result"
    }
   ],
   "source": [
    "test['score_pred'] = rc_cv.predict(test['cleaned_text'])\n",
    "test[test['score']==test['score_pred']].shape[0]/test.shape[0]"
   ]
  }
 ],
 "metadata": {
  "colab": {
   "collapsed_sections": [],
   "name": "Birads_extraction_and_classification.ipynb",
   "provenance": []
  },
  "kernelspec": {
   "display_name": "Python 3",
   "language": "python",
   "name": "python3"
  },
  "language_info": {
   "codemirror_mode": {
    "name": "ipython",
    "version": 3
   },
   "file_extension": ".py",
   "mimetype": "text/x-python",
   "name": "python",
   "nbconvert_exporter": "python",
   "pygments_lexer": "ipython3",
   "version": "3.7.4"
  }
 },
 "nbformat": 4,
 "nbformat_minor": 1
}
